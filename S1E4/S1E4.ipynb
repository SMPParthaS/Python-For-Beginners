{
 "cells": [
  {
   "cell_type": "markdown",
   "metadata": {
    "slideshow": {
     "slide_type": "slide"
    }
   },
   "source": [
    "# The Pythonian "
   ]
  },
  {
   "cell_type": "markdown",
   "metadata": {
    "slideshow": {
     "slide_type": "fragment"
    }
   },
   "source": [
    "## Season 1 Episode 4 : The List\n",
    "\n",
    "\n",
    "### Partha Satpathy\n",
    "#### Andrew Olin, Austin Brogan"
   ]
  },
  {
   "cell_type": "markdown",
   "metadata": {
    "slideshow": {
     "slide_type": "skip"
    }
   },
   "source": [
    "Note:\n",
    "To run this: jupyter nbconvert S1E4.ipynb --to slides --post serve"
   ]
  },
  {
   "cell_type": "markdown",
   "metadata": {
    "slideshow": {
     "slide_type": "slide"
    }
   },
   "source": [
    "## List"
   ]
  },
  {
   "cell_type": "markdown",
   "metadata": {
    "slideshow": {
     "slide_type": "fragment"
    }
   },
   "source": [
    "- Similar to Array\n",
    "- Collection of Arbitrary objects"
   ]
  },
  {
   "cell_type": "code",
   "execution_count": 11,
   "metadata": {
    "slideshow": {
     "slide_type": "fragment"
    }
   },
   "outputs": [
    {
     "name": "stdout",
     "output_type": "stream",
     "text": [
      "[1, 'abc', 2.5, False, None]\n"
     ]
    }
   ],
   "source": [
    "list_example = [1, \"abc\", 2.5, False, None]\n",
    "print(list_example)"
   ]
  },
  {
   "cell_type": "markdown",
   "metadata": {
    "slideshow": {
     "slide_type": "slide"
    }
   },
   "source": [
    "### List Properties"
   ]
  },
  {
   "cell_type": "markdown",
   "metadata": {
    "slideshow": {
     "slide_type": "fragment"
    }
   },
   "source": [
    "- Lists can contain any arbitrary objects.\n",
    "- Lists are ordered.\n",
    "- Lists can be nested to arbitrary depth.\n",
    "- Lists are dynamic(no prior length required).\n",
    "- List elements can be accessed by index.\n",
    "- Lists are mutable."
   ]
  },
  {
   "cell_type": "code",
   "execution_count": 12,
   "metadata": {
    "slideshow": {
     "slide_type": "subslide"
    }
   },
   "outputs": [
    {
     "name": "stdout",
     "output_type": "stream",
     "text": [
      "list_1 == list_2? True\n",
      "list_1 == list_3? False\n"
     ]
    }
   ],
   "source": [
    "# Lists are ordered\n",
    "list_1 = [1,2,3]\n",
    "list_2 = [1,2,3]\n",
    "list_3 = [2,1,3]\n",
    "\n",
    "print(f\"list_1 == list_2? {list_1 == list_2}\")\n",
    "print(f\"list_1 == list_3? {list_1 == list_3}\")"
   ]
  },
  {
   "cell_type": "code",
   "execution_count": 13,
   "metadata": {
    "slideshow": {
     "slide_type": "fragment"
    }
   },
   "outputs": [
    {
     "name": "stdout",
     "output_type": "stream",
     "text": [
      "[9, 10, [4, 5, [1, 2, 3]]]\n"
     ]
    }
   ],
   "source": [
    "# List can be nested\n",
    "list_sub_child = [1,2,3]\n",
    "list_child = [4,5, list_sub_child]\n",
    "list_parent = [9,10,list_child]\n",
    "\n",
    "print(list_parent)"
   ]
  },
  {
   "cell_type": "markdown",
   "metadata": {
    "slideshow": {
     "slide_type": "slide"
    }
   },
   "source": [
    "### List Indexing"
   ]
  },
  {
   "cell_type": "markdown",
   "metadata": {
    "slideshow": {
     "slide_type": "fragment"
    }
   },
   "source": [
    "- Individual elements in a list can be accessed using an index in square brackets.\n",
    "- List index starts with 0"
   ]
  },
  {
   "cell_type": "code",
   "execution_count": 14,
   "metadata": {
    "slideshow": {
     "slide_type": "fragment"
    }
   },
   "outputs": [
    {
     "name": "stdout",
     "output_type": "stream",
     "text": [
      "1st element: hi\n",
      "2nd element: there!\n"
     ]
    }
   ],
   "source": [
    "list_index_example = [\"hi\", \"there!\"]\n",
    "\n",
    "print(f\"1st element: {list_index_example[0]}\")\n",
    "print(f\"2nd element: {list_index_example[1]}\")"
   ]
  },
  {
   "cell_type": "code",
   "execution_count": 15,
   "metadata": {
    "slideshow": {
     "slide_type": "slide"
    }
   },
   "outputs": [],
   "source": [
    "list_example2 = ['foo', 'bar', 'baz', 'qux', 'quux', 'corge']"
   ]
  },
  {
   "cell_type": "markdown",
   "metadata": {
    "slideshow": {
     "slide_type": "fragment"
    }
   },
   "source": [
    "![list_index](img/list_index.png)"
   ]
  },
  {
   "cell_type": "code",
   "execution_count": 16,
   "metadata": {
    "slideshow": {
     "slide_type": "fragment"
    }
   },
   "outputs": [
    {
     "name": "stdout",
     "output_type": "stream",
     "text": [
      "list_example2[-1]: corge\n",
      "list_example2[5]: corge\n",
      "\n",
      "\n",
      "list_example2[4]: quux\n",
      "list_example2[-2]: quux\n"
     ]
    }
   ],
   "source": [
    "print(f\"list_example2[-1]: {list_example2[-1]}\")\n",
    "print(f\"list_example2[5]: {list_example2[5]}\")\n",
    "\n",
    "print(\"\\n\")\n",
    "\n",
    "print(f\"list_example2[4]: {list_example2[4]}\")\n",
    "print(f\"list_example2[-2]: {list_example2[-2]}\")"
   ]
  },
  {
   "cell_type": "markdown",
   "metadata": {
    "slideshow": {
     "slide_type": "slide"
    }
   },
   "source": [
    "**List Slicing**"
   ]
  },
  {
   "cell_type": "code",
   "execution_count": 17,
   "metadata": {
    "slideshow": {
     "slide_type": "fragment"
    }
   },
   "outputs": [
    {
     "name": "stdout",
     "output_type": "stream",
     "text": [
      "list_example2[1:4]: ['bar', 'baz', 'qux']\n",
      "list_example2[4:1]: []\n",
      "list_example2[-4:-1]: ['baz', 'qux', 'quux']\n"
     ]
    }
   ],
   "source": [
    "list_example2 = ['foo', 'bar', 'baz', 'qux', 'quux', 'corge']\n",
    "print(f\"list_example2[1:4]: {list_example2[1:4]}\")\n",
    "print(f\"list_example2[4:1]: {list_example2[4:1]}\")\n",
    "print(f\"list_example2[-4:-1]: {list_example2[-4:-1]}\")"
   ]
  },
  {
   "cell_type": "code",
   "execution_count": 18,
   "metadata": {
    "slideshow": {
     "slide_type": "fragment"
    }
   },
   "outputs": [
    {
     "name": "stdout",
     "output_type": "stream",
     "text": [
      "list_example2[:3]: ['foo', 'bar', 'baz']\n",
      "list_example2[-4:]: ['baz', 'qux', 'quux', 'corge']\n"
     ]
    }
   ],
   "source": [
    "# Omitting the first index starts the slice at the beginning of the list, \n",
    "# and omitting the second index extends the slice to the end of the list.\n",
    "\n",
    "list_example2 = ['foo', 'bar', 'baz', 'qux', 'quux', 'corge']\n",
    "print(f\"list_example2[:3]: {list_example2[:3]}\")\n",
    "print(f\"list_example2[-4:]: {list_example2[-4:]}\")"
   ]
  },
  {
   "cell_type": "markdown",
   "metadata": {
    "slideshow": {
     "slide_type": "slide"
    }
   },
   "source": [
    "### List Functions"
   ]
  },
  {
   "cell_type": "code",
   "execution_count": 19,
   "metadata": {
    "slideshow": {
     "slide_type": "fragment"
    }
   },
   "outputs": [
    {
     "name": "stdout",
     "output_type": "stream",
     "text": [
      "Length of list_example3: 7\n",
      "Max value in list_example3: 35\n",
      "Min value in list_example3: -1\n"
     ]
    }
   ],
   "source": [
    "# Length, min, max\n",
    "list_example3 = [2, 5, 3, 2, 35, 2, -1]\n",
    "print(f\"Length of list_example3: {len(list_example3)}\")\n",
    "print(f\"Max value in list_example3: {max(list_example3)}\")\n",
    "print(f\"Min value in list_example3: {min(list_example3)}\")"
   ]
  },
  {
   "cell_type": "code",
   "execution_count": 20,
   "metadata": {
    "slideshow": {
     "slide_type": "fragment"
    }
   },
   "outputs": [
    {
     "name": "stdout",
     "output_type": "stream",
     "text": [
      "Does element 5 exist in list_example3?: True\n",
      "Does element 5 not exist in list_example3?: False\n",
      "------------------------\n",
      "Does element 55 exist in list_example3?: False\n",
      "Does element 55 not exist in list_example3?: True\n"
     ]
    }
   ],
   "source": [
    "# in and not\n",
    "list_example3 = [2, 5, 3, 35, 2, -1]\n",
    "\n",
    "print(f\"Does element 5 exist in list_example3?: {5 in list_example3}\")\n",
    "print(f\"Does element 5 not exist in list_example3?: {5 not in list_example3}\")\n",
    "print(\"------------------------\")\n",
    "print(f\"Does element 55 exist in list_example3?: {55 in list_example3}\")\n",
    "print(f\"Does element 55 not exist in list_example3?: {55 not in list_example3}\")"
   ]
  },
  {
   "cell_type": "markdown",
   "metadata": {
    "slideshow": {
     "slide_type": "slide"
    }
   },
   "source": [
    "**List Concatenation**"
   ]
  },
  {
   "cell_type": "code",
   "execution_count": 21,
   "metadata": {
    "slideshow": {
     "slide_type": "fragment"
    }
   },
   "outputs": [
    {
     "name": "stdout",
     "output_type": "stream",
     "text": [
      "list_3 = [1, 3, 6, 'a', 'b', 'c']\n"
     ]
    }
   ],
   "source": [
    "list_1 = [1,3,6]\n",
    "list_2 = ['a','b','c']\n",
    "\n",
    "list_3 = list_1 + list_2\n",
    "\n",
    "print(f\"list_3 = {list_3}\")"
   ]
  },
  {
   "cell_type": "markdown",
   "metadata": {
    "slideshow": {
     "slide_type": "slide"
    }
   },
   "source": [
    "#### append() vs extend()"
   ]
  },
  {
   "cell_type": "markdown",
   "metadata": {
    "slideshow": {
     "slide_type": "fragment"
    }
   },
   "source": [
    "- Use append(): When you want to add an element to a list\n",
    "- Use extend(): When you want to add another list to a list"
   ]
  },
  {
   "cell_type": "code",
   "execution_count": 22,
   "metadata": {
    "slideshow": {
     "slide_type": "subslide"
    }
   },
   "outputs": [
    {
     "name": "stdout",
     "output_type": "stream",
     "text": [
      "After Appending element 10 to list_1: [1, 3, 6, 10]\n"
     ]
    }
   ],
   "source": [
    "list_1 = [1,3,6]\n",
    "list_1.append(10)\n",
    "print(f\"After Appending element 10 to list_1: {list_1}\")"
   ]
  },
  {
   "cell_type": "code",
   "execution_count": 23,
   "metadata": {
    "slideshow": {
     "slide_type": "fragment"
    }
   },
   "outputs": [
    {
     "name": "stdout",
     "output_type": "stream",
     "text": [
      "After Extending list_2 to list_1: [1, 3, 6, 2, 5, 7]\n"
     ]
    }
   ],
   "source": [
    "list_1 = [1,3,6]\n",
    "list_2 = [2,5,7]\n",
    "list_1.extend(list_2)\n",
    "print(f\"After Extending list_2 to list_1: {list_1}\")"
   ]
  },
  {
   "cell_type": "code",
   "execution_count": 24,
   "metadata": {
    "slideshow": {
     "slide_type": "fragment"
    }
   },
   "outputs": [],
   "source": [
    "list_1 = [1,3,6]\n",
    "list_2 = [2,5,7]\n",
    "list_1.append(list_2)"
   ]
  },
  {
   "cell_type": "code",
   "execution_count": 25,
   "metadata": {
    "slideshow": {
     "slide_type": "fragment"
    }
   },
   "outputs": [
    {
     "name": "stdout",
     "output_type": "stream",
     "text": [
      "After Appending list_2 to list_1: [1, 3, 6, [2, 5, 7]]\n"
     ]
    }
   ],
   "source": [
    "print(f\"After Appending list_2 to list_1: {list_1}\")"
   ]
  },
  {
   "cell_type": "code",
   "execution_count": null,
   "metadata": {
    "slideshow": {
     "slide_type": "skip"
    }
   },
   "outputs": [],
   "source": [
    "# Exercise 1: Create a list from a to i and print c to f using positive and negative indexing separately\n",
    "# Exercise 2: Create two lists- list_1:a to f and list_2:g to n. \n",
    "# Create a 3rd list : a to n by joining list_1 and list_2, but no duplicate elements in list_3."
   ]
  },
  {
   "cell_type": "markdown",
   "metadata": {
    "slideshow": {
     "slide_type": "slide"
    }
   },
   "source": [
    "## Tuple"
   ]
  },
  {
   "cell_type": "markdown",
   "metadata": {
    "slideshow": {
     "slide_type": "fragment"
    }
   },
   "source": [
    "- similar to list, but enclosed with ()\n",
    "- immutable"
   ]
  },
  {
   "cell_type": "code",
   "execution_count": 26,
   "metadata": {
    "slideshow": {
     "slide_type": "fragment"
    }
   },
   "outputs": [
    {
     "name": "stdout",
     "output_type": "stream",
     "text": [
      "tuple_1: (1, 'ab', True, None, 2.5)\n",
      "tuple_1[0]: 1\n",
      "tuple_1[-1]: 2.5\n"
     ]
    }
   ],
   "source": [
    "tuple_1 = (1, \"ab\", True, None, 2.5)\n",
    "print(f\"tuple_1: {tuple_1}\")\n",
    "print(f\"tuple_1[0]: {tuple_1[0]}\")\n",
    "print(f\"tuple_1[-1]: {tuple_1[-1]}\")"
   ]
  },
  {
   "cell_type": "code",
   "execution_count": 27,
   "metadata": {
    "slideshow": {
     "slide_type": "subslide"
    }
   },
   "outputs": [
    {
     "name": "stdout",
     "output_type": "stream",
     "text": [
      "list_example after changing: [1, 3, 10, 8]\n"
     ]
    },
    {
     "ename": "TypeError",
     "evalue": "'tuple' object does not support item assignment",
     "output_type": "error",
     "traceback": [
      "\u001b[0;31m---------------------------------------------------------------------------\u001b[0m",
      "\u001b[0;31mTypeError\u001b[0m                                 Traceback (most recent call last)",
      "\u001b[0;32m<ipython-input-27-e0e6b772dde8>\u001b[0m in \u001b[0;36m<module>\u001b[0;34m\u001b[0m\n\u001b[1;32m      5\u001b[0m \u001b[0mprint\u001b[0m\u001b[0;34m(\u001b[0m\u001b[0;34mf\"list_example after changing: {list_example}\"\u001b[0m\u001b[0;34m)\u001b[0m\u001b[0;34m\u001b[0m\u001b[0;34m\u001b[0m\u001b[0m\n\u001b[1;32m      6\u001b[0m \u001b[0;34m\u001b[0m\u001b[0m\n\u001b[0;32m----> 7\u001b[0;31m \u001b[0mtuple_example\u001b[0m\u001b[0;34m[\u001b[0m\u001b[0;36m2\u001b[0m\u001b[0;34m]\u001b[0m \u001b[0;34m=\u001b[0m \u001b[0;36m10\u001b[0m \u001b[0;31m# Tuples are mutable\u001b[0m\u001b[0;34m\u001b[0m\u001b[0;34m\u001b[0m\u001b[0m\n\u001b[0m\u001b[1;32m      8\u001b[0m \u001b[0mprint\u001b[0m\u001b[0;34m(\u001b[0m\u001b[0;34mf\"list_example after changing: {tuple_example}\"\u001b[0m\u001b[0;34m)\u001b[0m\u001b[0;34m\u001b[0m\u001b[0;34m\u001b[0m\u001b[0m\n",
      "\u001b[0;31mTypeError\u001b[0m: 'tuple' object does not support item assignment"
     ]
    }
   ],
   "source": [
    "list_example = [1,3,6,8]\n",
    "tuple_example = (1,3,6,8)\n",
    "\n",
    "list_example[2] = 10 # Lists are mutable\n",
    "print(f\"list_example after changing: {list_example}\")\n",
    "\n",
    "tuple_example[2] = 10 # Tuples are mutable\n",
    "print(f\"list_example after changing: {tuple_example}\")"
   ]
  },
  {
   "cell_type": "code",
   "execution_count": 28,
   "metadata": {
    "slideshow": {
     "slide_type": "slide"
    }
   },
   "outputs": [
    {
     "name": "stdout",
     "output_type": "stream",
     "text": [
      "tuple_example type: <class 'tuple'>\n",
      "tuple_example2: <class 'int'>\n"
     ]
    }
   ],
   "source": [
    "# Single tuple assignment\n",
    "tuple_example = (1,2)\n",
    "print(f\"tuple_example type: {type(tuple_example)}\")\n",
    "\n",
    "tuple_example2 = (2)\n",
    "print(f\"tuple_example2: {type(tuple_example2)}\")"
   ]
  },
  {
   "cell_type": "code",
   "execution_count": 29,
   "metadata": {
    "slideshow": {
     "slide_type": "fragment"
    }
   },
   "outputs": [
    {
     "name": "stdout",
     "output_type": "stream",
     "text": [
      "tuple_example3: <class 'tuple'>\n"
     ]
    }
   ],
   "source": [
    "tuple_example3 = (2,)\n",
    "print(f\"tuple_example3: {type(tuple_example3)}\")"
   ]
  },
  {
   "cell_type": "markdown",
   "metadata": {
    "slideshow": {
     "slide_type": "slide"
    }
   },
   "source": [
    "**Why use tuple over list?**"
   ]
  },
  {
   "cell_type": "markdown",
   "metadata": {
    "slideshow": {
     "slide_type": "subslide"
    }
   },
   "source": [
    "- When you do not need to change value\n",
    "- tuples are faster than list"
   ]
  },
  {
   "cell_type": "markdown",
   "metadata": {
    "slideshow": {
     "slide_type": "slide"
    }
   },
   "source": [
    "## Dictionary"
   ]
  },
  {
   "cell_type": "markdown",
   "metadata": {
    "slideshow": {
     "slide_type": "fragment"
    }
   },
   "source": [
    "A dictionary consists of a collection of key-value pairs. Each key-value pair maps the key to its associated value."
   ]
  },
  {
   "cell_type": "code",
   "execution_count": 30,
   "metadata": {
    "slideshow": {
     "slide_type": "fragment"
    }
   },
   "outputs": [
    {
     "name": "stdout",
     "output_type": "stream",
     "text": [
      "{'key1': 'value1', 'key2': 'value2'}\n"
     ]
    }
   ],
   "source": [
    "# Example\n",
    "dict_example = {\n",
    "    \"key1\": \"value1\",\n",
    "    \"key2\": \"value2\"\n",
    "}\n",
    "\n",
    "print(dict_example)"
   ]
  },
  {
   "cell_type": "markdown",
   "metadata": {
    "slideshow": {
     "slide_type": "slide"
    }
   },
   "source": [
    "#### Properties"
   ]
  },
  {
   "cell_type": "markdown",
   "metadata": {
    "slideshow": {
     "slide_type": "fragment"
    }
   },
   "source": [
    "- mutable\n",
    "- dynamic\n",
    "- nested\n",
    "- elements accessed by key\n",
    "- key can only be immutable (list cannot be a key)"
   ]
  },
  {
   "cell_type": "markdown",
   "metadata": {
    "slideshow": {
     "slide_type": "slide"
    }
   },
   "source": [
    "**Accessing Dictionary**"
   ]
  },
  {
   "cell_type": "code",
   "execution_count": 31,
   "metadata": {
    "slideshow": {
     "slide_type": "fragment"
    }
   },
   "outputs": [
    {
     "name": "stdout",
     "output_type": "stream",
     "text": [
      "First element: value1\n",
      "Second element: value2\n"
     ]
    }
   ],
   "source": [
    "dict_example = {\n",
    "    \"key1\": \"value1\",\n",
    "    \"key2\": \"value2\"\n",
    "}\n",
    "\n",
    "print(f\"First element: {dict_example['key1']}\")\n",
    "print(f\"Second element: {dict_example['key2']}\")"
   ]
  },
  {
   "cell_type": "code",
   "execution_count": 35,
   "metadata": {
    "slideshow": {
     "slide_type": "slide"
    }
   },
   "outputs": [
    {
     "name": "stdout",
     "output_type": "stream",
     "text": [
      "{'key1': 'value1', 'key2': 'value2', 'key3': 'value3'}\n"
     ]
    }
   ],
   "source": [
    "# Adding elements to dictionary\n",
    "dict_example = {\n",
    "    \"key1\": \"value1\",\n",
    "    \"key2\": \"value2\"\n",
    "}\n",
    "dict_example[\"key3\"] = \"value3\"\n",
    "print(dict_example)"
   ]
  },
  {
   "cell_type": "code",
   "execution_count": 36,
   "metadata": {
    "slideshow": {
     "slide_type": "fragment"
    }
   },
   "outputs": [
    {
     "name": "stdout",
     "output_type": "stream",
     "text": [
      "{'key1': 'value1', 'key2': 'value5', 'key3': 'value3'}\n"
     ]
    }
   ],
   "source": [
    "# Update element in a dictionary\n",
    "dict_example[\"key2\"] = \"value5\"\n",
    "print(dict_example)"
   ]
  },
  {
   "cell_type": "code",
   "execution_count": 37,
   "metadata": {
    "slideshow": {
     "slide_type": "fragment"
    }
   },
   "outputs": [
    {
     "name": "stdout",
     "output_type": "stream",
     "text": [
      "{'key1': 'value1', 'key2': 'value5'}\n"
     ]
    }
   ],
   "source": [
    "# Delete element from dictionary\n",
    "del dict_example[\"key3\"]\n",
    "print(dict_example)"
   ]
  }
 ],
 "metadata": {
  "celltoolbar": "Slideshow",
  "kernelspec": {
   "display_name": "Python 3",
   "language": "python",
   "name": "python3"
  },
  "language_info": {
   "codemirror_mode": {
    "name": "ipython",
    "version": 3
   },
   "file_extension": ".py",
   "mimetype": "text/x-python",
   "name": "python",
   "nbconvert_exporter": "python",
   "pygments_lexer": "ipython3",
   "version": "3.7.6"
  }
 },
 "nbformat": 4,
 "nbformat_minor": 4
}
