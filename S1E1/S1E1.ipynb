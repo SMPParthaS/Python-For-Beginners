{
 "cells": [
  {
   "cell_type": "markdown",
   "metadata": {
    "slideshow": {
     "slide_type": "slide"
    }
   },
   "source": [
    "# The Pythonian "
   ]
  },
  {
   "cell_type": "markdown",
   "metadata": {
    "slideshow": {
     "slide_type": "fragment"
    }
   },
   "source": [
    "## Season 1 Episode 1: This is the way!\n",
    "\n",
    "\n",
    "### Partha Satpathy\n",
    "#### Andrew Olin, Austin Brogan"
   ]
  },
  {
   "cell_type": "markdown",
   "metadata": {
    "slideshow": {
     "slide_type": "notes"
    }
   },
   "source": [
    "Note:\n",
    "To run this: jupyter nbconvert S1E1.ipynb --to slides --post serve"
   ]
  },
  {
   "cell_type": "markdown",
   "metadata": {
    "slideshow": {
     "slide_type": "slide"
    }
   },
   "source": [
    "## Requirement for this course?"
   ]
  },
  {
   "cell_type": "markdown",
   "metadata": {
    "slideshow": {
     "slide_type": "fragment"
    }
   },
   "source": [
    "1. No prior programming experience required.\n",
    "2. Analytical Problem Solving.\n",
    "3. Availability of laptop and internet."
   ]
  },
  {
   "cell_type": "markdown",
   "metadata": {
    "slideshow": {
     "slide_type": "slide"
    }
   },
   "source": [
    "## Course purpose?"
   ]
  },
  {
   "cell_type": "markdown",
   "metadata": {
    "slideshow": {
     "slide_type": "fragment"
    }
   },
   "source": [
    "![Session Purpose](img/my_purpose.png)"
   ]
  },
  {
   "cell_type": "markdown",
   "metadata": {
    "slideshow": {
     "slide_type": "fragment"
    }
   },
   "source": [
    "1. Develop understanding of how to solve problems using Coding.\n",
    "2. Coding using Basic Python.\n",
    "3. Tools for development e.g. IDE, Code Sharing"
   ]
  },
  {
   "cell_type": "markdown",
   "metadata": {
    "slideshow": {
     "slide_type": "slide"
    }
   },
   "source": [
    "## Not to Expect"
   ]
  },
  {
   "cell_type": "markdown",
   "metadata": {
    "slideshow": {
     "slide_type": "fragment"
    }
   },
   "source": [
    "1. will not learn neural network/machine learning/AI\n",
    "2. no course customization"
   ]
  },
  {
   "cell_type": "markdown",
   "metadata": {
    "slideshow": {
     "slide_type": "slide"
    }
   },
   "source": [
    "## Schedule"
   ]
  },
  {
   "cell_type": "markdown",
   "metadata": {
    "slideshow": {
     "slide_type": "fragment"
    }
   },
   "source": [
    "| Date | Number | Name | Topic |\n",
    "| --- | --- | --- |-- |\n",
    "| Nov 2, 2020 | S1E1 | This is the way! | Course Introduction |\n",
    "| Nov 9, 2020 | S1E2 |  | Variables and Assignment-1 |\n",
    "| Nov 16, 2020 | S1E3 |  | Variables and Assignment-2 |\n",
    "| Nov 23, 2020 | S1E4 |  | Flow Control(If-Else) |\n",
    "| Nov 30, 2020 | S1E5 | | Quiz, Project Introduction, Github, StackOverFlow |\n",
    "| Dec 7, 2020 | S1E6 | | Loop-1 |\n",
    "| Dec 14, 2020 | S1E7 | | Loop-2 |\n",
    "| Dec 21, 2020 | S1E8 | | List & Dictionary |\n",
    "| Dec 28, 2020 | S1E9 |  | Review & Project |\n",
    "| Jan 4, 2021 | S1E10 | | Final Quiz |"
   ]
  },
  {
   "cell_type": "markdown",
   "metadata": {
    "slideshow": {
     "slide_type": "slide"
    }
   },
   "source": [
    "## Individual class "
   ]
  },
  {
   "cell_type": "markdown",
   "metadata": {
    "slideshow": {
     "slide_type": "fragment"
    }
   },
   "source": [
    "1. 00-10 minutes: Easy Quiz based on last week (Menti Type?), quick recap\n",
    "2. 10-20 minutes: Theory\n",
    "3. 20-50 minutes: Hands-On\n",
    "4. 50-60 minutes: In-class Exercise"
   ]
  },
  {
   "cell_type": "markdown",
   "metadata": {
    "slideshow": {
     "slide_type": "slide"
    }
   },
   "source": [
    "## Resources and Expectations"
   ]
  },
  {
   "cell_type": "markdown",
   "metadata": {
    "slideshow": {
     "slide_type": "fragment"
    }
   },
   "source": [
    "1. Individual session presentation: [Download](https://github.com/SMPParthaS/Python-For-Beginners)\n",
    "2. Sample hands-on code\n",
    "3. Books: \n",
    "    - User Friendly: [Head First Python](https://www.amazon.com/dp/1491919531/ref=cm_sw_em_r_mt_dp_PtlNFb1G3MFPN)\n",
    "    - Popular: [Python Crash Course](https://www.amazon.com/dp/1593279280/ref=cm_sw_em_r_mt_dp_XvlNFb3KK56V6)\n",
    "4. Online courses:\n",
    "    - [Udemy Complete Python Booycamp](https://www.udemy.com/share/101W8Q/)\n",
    "5. Webex Team Space\n",
    "6. Practice questions will be shared in webex teams at the end of the class"
   ]
  },
  {
   "cell_type": "markdown",
   "metadata": {
    "slideshow": {
     "slide_type": "slide"
    }
   },
   "source": [
    "## Installation"
   ]
  },
  {
   "cell_type": "markdown",
   "metadata": {
    "slideshow": {
     "slide_type": "fragment"
    }
   },
   "source": [
    "1. VS Code\n",
    "2. Python 3.7\n",
    "3. Plug-ins inside VS Code"
   ]
  },
  {
   "cell_type": "markdown",
   "metadata": {
    "slideshow": {
     "slide_type": "slide"
    }
   },
   "source": [
    "## Programming Concepts"
   ]
  },
  {
   "cell_type": "markdown",
   "metadata": {
    "slideshow": {
     "slide_type": "subslide"
    }
   },
   "source": [
    "![Programming Language](img/languages.png)"
   ]
  },
  {
   "cell_type": "markdown",
   "metadata": {
    "slideshow": {
     "slide_type": "slide"
    }
   },
   "source": [
    "## Compilation vs Interpretation"
   ]
  },
  {
   "cell_type": "markdown",
   "metadata": {
    "slideshow": {
     "slide_type": "fragment"
    }
   },
   "source": [
    "### Compilation:\n",
    "- Compiled program creates machine code before it is used. e.g. Java\n",
    "- Translate a book to another language\n",
    "- Faster to run, comparatively slower to develop\n",
    "\n",
    "\n",
    "### Interpretation: \n",
    "- Machine code gets created during run time.\n",
    "- Hire a personal interpreter and translate on-demand\n",
    "- Faster to develop, comparatively slower to run."
   ]
  },
  {
   "cell_type": "markdown",
   "metadata": {
    "slideshow": {
     "slide_type": "fragment"
    }
   },
   "source": [
    "## Other concepts"
   ]
  },
  {
   "cell_type": "markdown",
   "metadata": {
    "slideshow": {
     "slide_type": "fragment"
    }
   },
   "source": [
    "1. Functional vs Object-Oriented Programming\n",
    "2. Statically vs Dynamically Typed Programming languages\n",
    "3. Garbage Collected vs Non-garbage collected"
   ]
  },
  {
   "cell_type": "markdown",
   "metadata": {
    "slideshow": {
     "slide_type": "slide"
    }
   },
   "source": [
    "## Which one is the Best Programming language?"
   ]
  },
  {
   "cell_type": "markdown",
   "metadata": {
    "slideshow": {
     "slide_type": "fragment"
    }
   },
   "source": [
    "- Wrong Question\n",
    "- Hammer vs Wrench\n",
    "- Use which best suits the problem"
   ]
  },
  {
   "cell_type": "markdown",
   "metadata": {
    "slideshow": {
     "slide_type": "slide"
    }
   },
   "source": [
    "## Introduction To Python"
   ]
  },
  {
   "cell_type": "markdown",
   "metadata": {
    "slideshow": {
     "slide_type": "fragment"
    }
   },
   "source": [
    "Source: [Wikipedia](https://en.wikipedia.org/wiki/Python_(programming_language))\n",
    "\n",
    "Devloped by: Guido van Rossum\n",
    "\n",
    "Python is a widely used general-purpose, interpreted, dynamic programming language. Its design philosophy emphasizes code readability, and its syntax allows programmers to express concepts in fewer lines of code than possible in languages such as C++ or Java. The language provides constructs intended to enable clear programs on both a small and large scale\n",
    "\n",
    "#### Versions:\n",
    "- Python 2 and 3 \n",
    "- Latest Version: 3.9\n",
    "- Use: 3.7"
   ]
  },
  {
   "cell_type": "markdown",
   "metadata": {
    "slideshow": {
     "slide_type": "slide"
    }
   },
   "source": [
    "## The incredible growth of Python"
   ]
  },
  {
   "cell_type": "markdown",
   "metadata": {
    "slideshow": {
     "slide_type": "fragment"
    }
   },
   "source": [
    "![Rise of Python](img/rise_of_python.png)"
   ]
  },
  {
   "cell_type": "markdown",
   "metadata": {
    "slideshow": {
     "slide_type": "subslide"
    }
   },
   "source": [
    "1. It's Simple\n",
    "2. Supportive User Community\n",
    "3. Preferred Language for Machine Learning"
   ]
  },
  {
   "cell_type": "markdown",
   "metadata": {
    "slideshow": {
     "slide_type": "slide"
    }
   },
   "source": [
    "## My First Program"
   ]
  },
  {
   "cell_type": "code",
   "execution_count": 3,
   "metadata": {
    "slideshow": {
     "slide_type": "fragment"
    }
   },
   "outputs": [
    {
     "name": "stdout",
     "output_type": "stream",
     "text": [
      "This is the way!\n"
     ]
    }
   ],
   "source": [
    "print(\"This is the way!\")"
   ]
  }
 ],
 "metadata": {
  "celltoolbar": "Slideshow",
  "kernelspec": {
   "display_name": "Python 3",
   "language": "python",
   "name": "python3"
  },
  "language_info": {
   "codemirror_mode": {
    "name": "ipython",
    "version": 3
   },
   "file_extension": ".py",
   "mimetype": "text/x-python",
   "name": "python",
   "nbconvert_exporter": "python",
   "pygments_lexer": "ipython3",
   "version": "3.7.6"
  }
 },
 "nbformat": 4,
 "nbformat_minor": 4
}
