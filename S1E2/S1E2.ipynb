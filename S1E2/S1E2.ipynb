{
 "cells": [
  {
   "cell_type": "markdown",
   "metadata": {
    "slideshow": {
     "slide_type": "slide"
    }
   },
   "source": [
    "# The Pythonian "
   ]
  },
  {
   "cell_type": "markdown",
   "metadata": {
    "slideshow": {
     "slide_type": "fragment"
    }
   },
   "source": [
    "## Season 1 Episode 2 : Tha Mandalorian Way of Coding\n",
    "\n",
    "\n",
    "### Partha Satpathy\n",
    "#### Andrew Olin, Austin Brogan"
   ]
  },
  {
   "cell_type": "markdown",
   "metadata": {
    "slideshow": {
     "slide_type": "notes"
    }
   },
   "source": [
    "Note:\n",
    "To run this: jupyter nbconvert S1E2.ipynb --to slides --post serve"
   ]
  },
  {
   "cell_type": "markdown",
   "metadata": {
    "slideshow": {
     "slide_type": "slide"
    }
   },
   "source": [
    "## Data Type"
   ]
  },
  {
   "cell_type": "markdown",
   "metadata": {
    "slideshow": {
     "slide_type": "fragment"
    }
   },
   "source": [
    "Data type is an attribute of data which tells the compiler or interpreter how the programmer intends to use the data."
   ]
  },
  {
   "cell_type": "markdown",
   "metadata": {
    "slideshow": {
     "slide_type": "fragment"
    }
   },
   "source": [
    "### Basic Python Data Types: "
   ]
  },
  {
   "cell_type": "markdown",
   "metadata": {
    "slideshow": {
     "slide_type": "fragment"
    }
   },
   "source": [
    "| Type | Sub-types | Example |\n",
    "| --- | --- | --- |\n",
    "| Numeric | int, float, complex | 1234, 3.1415, 3+4j |\n",
    "| Boolean | Boolean | True, False |\n",
    "| Text | str(String) | 'This', \"is\", \"\"\" the way! \"\"\" |\n",
    "| Null | Null | None |"
   ]
  },
  {
   "cell_type": "markdown",
   "metadata": {
    "slideshow": {
     "slide_type": "slide"
    }
   },
   "source": [
    "## Variable"
   ]
  },
  {
   "cell_type": "markdown",
   "metadata": {
    "slideshow": {
     "slide_type": "fragment"
    }
   },
   "source": [
    "Variable or Scalar is a storage location (identified by a memory address) paired with an associated symbolic name, which contains some known or unknown quantity of information referred to as a value."
   ]
  },
  {
   "cell_type": "code",
   "execution_count": 14,
   "metadata": {
    "slideshow": {
     "slide_type": "subslide"
    }
   },
   "outputs": [
    {
     "name": "stdout",
     "output_type": "stream",
     "text": [
      "10\n"
     ]
    }
   ],
   "source": [
    "variable_integer = 10\n",
    "print(variable_integer)"
   ]
  },
  {
   "cell_type": "code",
   "execution_count": 15,
   "metadata": {
    "slideshow": {
     "slide_type": "subslide"
    }
   },
   "outputs": [
    {
     "name": "stdout",
     "output_type": "stream",
     "text": [
      "4420699552\n"
     ]
    }
   ],
   "source": [
    "# print the identity of the variable\n",
    "print(id(variable_integer)) "
   ]
  },
  {
   "cell_type": "markdown",
   "metadata": {
    "slideshow": {
     "slide_type": "slide"
    }
   },
   "source": [
    "## Commenting the code"
   ]
  },
  {
   "cell_type": "markdown",
   "metadata": {
    "slideshow": {
     "slide_type": "fragment"
    }
   },
   "source": [
    "Comments:\n",
    "- Tells compiler/interpreter not to run part of the code that is commented\n",
    "- comment style differs language to language"
   ]
  },
  {
   "cell_type": "markdown",
   "metadata": {
    "slideshow": {
     "slide_type": "subslide"
    }
   },
   "source": [
    "### Comments in Python"
   ]
  },
  {
   "cell_type": "code",
   "execution_count": 19,
   "metadata": {
    "slideshow": {
     "slide_type": "fragment"
    }
   },
   "outputs": [
    {
     "name": "stdout",
     "output_type": "stream",
     "text": [
      "This should be printed\n"
     ]
    }
   ],
   "source": [
    "print(\"This should be printed\")\n",
    "# print(\"This should not be printed\")"
   ]
  },
  {
   "cell_type": "raw",
   "metadata": {
    "slideshow": {
     "slide_type": "fragment"
    }
   },
   "source": [
    "Multi-line comments\n",
    "\"\"\"\n",
    "If I really hate pressing `enter` and\n",
    "typing all those hash marks, I could\n",
    "just do this instead\n",
    "\"\"\""
   ]
  },
  {
   "cell_type": "markdown",
   "metadata": {
    "slideshow": {
     "slide_type": "slide"
    }
   },
   "source": [
    "## Variable Assignment"
   ]
  },
  {
   "cell_type": "markdown",
   "metadata": {
    "slideshow": {
     "slide_type": "fragment"
    }
   },
   "source": [
    "1. Variables need not be declared or defined in advance.\n",
    "2. To create a variable, you just assign it a value and then start using it."
   ]
  },
  {
   "cell_type": "code",
   "execution_count": 5,
   "metadata": {
    "slideshow": {
     "slide_type": "subslide"
    }
   },
   "outputs": [
    {
     "name": "stdout",
     "output_type": "stream",
     "text": [
      "I can store this string in here.\n"
     ]
    }
   ],
   "source": [
    "this_is_a_variable = \"I can store this string in here.\"\n",
    "print(this_is_a_variable)"
   ]
  },
  {
   "cell_type": "markdown",
   "metadata": {
    "slideshow": {
     "slide_type": "subslide"
    }
   },
   "source": [
    "### Chained Assignment"
   ]
  },
  {
   "cell_type": "code",
   "execution_count": 21,
   "metadata": {
    "slideshow": {
     "slide_type": "fragment"
    }
   },
   "outputs": [
    {
     "name": "stdout",
     "output_type": "stream",
     "text": [
      "100 100 100\n",
      "4420702432 4420702432 4420702432\n"
     ]
    }
   ],
   "source": [
    "# You can do a chained assignment like this\n",
    "var_int1 = var_int2 = var_int3 = 100\n",
    "\n",
    "print(var_int1,var_int2, var_int3) # print the values of the variables\n",
    "print(id(var_int1),id(var_int2),id(var_int3)) # print the identity of the variables"
   ]
  },
  {
   "cell_type": "markdown",
   "metadata": {
    "slideshow": {
     "slide_type": "slide"
    }
   },
   "source": [
    "## Variable Names"
   ]
  },
  {
   "cell_type": "markdown",
   "metadata": {
    "slideshow": {
     "slide_type": "fragment"
    }
   },
   "source": [
    "Variable names in Python can be any length and can consist of uppercase and lowercase letters (A-Z, a-z), digits (0-9), and the underscore character (_)"
   ]
  },
  {
   "cell_type": "markdown",
   "metadata": {
    "slideshow": {
     "slide_type": "subslide"
    }
   },
   "source": [
    "`Although a variable name can contain digits, the first character of a variable name cannot be a digit.`"
   ]
  },
  {
   "cell_type": "code",
   "execution_count": 24,
   "metadata": {
    "slideshow": {
     "slide_type": "fragment"
    }
   },
   "outputs": [
    {
     "name": "stdout",
     "output_type": "stream",
     "text": [
      "True\n"
     ]
    }
   ],
   "source": [
    "# This is fine\n",
    "var_123 = True\n",
    "print(var_123)"
   ]
  },
  {
   "cell_type": "code",
   "execution_count": 25,
   "metadata": {
    "slideshow": {
     "slide_type": "fragment"
    }
   },
   "outputs": [
    {
     "ename": "SyntaxError",
     "evalue": "invalid token (<ipython-input-25-0a86ed48e028>, line 2)",
     "output_type": "error",
     "traceback": [
      "\u001b[0;36m  File \u001b[0;32m\"<ipython-input-25-0a86ed48e028>\"\u001b[0;36m, line \u001b[0;32m2\u001b[0m\n\u001b[0;31m    123_var = True\u001b[0m\n\u001b[0m       ^\u001b[0m\n\u001b[0;31mSyntaxError\u001b[0m\u001b[0;31m:\u001b[0m invalid token\n"
     ]
    }
   ],
   "source": [
    "# This is not.\n",
    "123_var = True"
   ]
  },
  {
   "cell_type": "markdown",
   "metadata": {
    "slideshow": {
     "slide_type": "subslide"
    }
   },
   "source": [
    "`Variables are case-sensitive`"
   ]
  },
  {
   "cell_type": "code",
   "execution_count": 26,
   "metadata": {
    "slideshow": {
     "slide_type": "fragment"
    }
   },
   "outputs": [
    {
     "name": "stdout",
     "output_type": "stream",
     "text": [
      "5 10\n"
     ]
    }
   ],
   "source": [
    "var_in_case = 5\n",
    "VAR_IN_CASE = 10\n",
    "\n",
    "print(var_in_case, VAR_IN_CASE)"
   ]
  },
  {
   "cell_type": "markdown",
   "metadata": {
    "slideshow": {
     "slide_type": "slide"
    }
   },
   "source": [
    "### Variable Naming Conventions"
   ]
  },
  {
   "cell_type": "markdown",
   "metadata": {
    "slideshow": {
     "slide_type": "fragment"
    }
   },
   "source": [
    "| Type | Description | Example |\n",
    "| --- | --- | --- |\n",
    "| Camel Case | Second and subsequent words are capitalized | thisIsTheWay |\n",
    "| Pascal Case | All words are capitalized | ThisIsTheWay |\n",
    "| Snake Case | words are all lowercase, separated by underscore | this_is_the_way |"
   ]
  },
  {
   "cell_type": "markdown",
   "metadata": {
    "slideshow": {
     "slide_type": "subslide"
    }
   },
   "source": [
    "> `The Mandalorian Way!`  \n",
    "\n",
    "**snake_case**  e.g. this_is_the_way"
   ]
  },
  {
   "cell_type": "markdown",
   "metadata": {
    "slideshow": {
     "slide_type": "slide"
    }
   },
   "source": [
    "### Reserved Words (Keywords)"
   ]
  },
  {
   "cell_type": "markdown",
   "metadata": {
    "slideshow": {
     "slide_type": "fragment"
    }
   },
   "source": [
    "The Python language reserves a small set of keywords that designate special language functionality. No object can have the same name as a reserved word.\n",
    "\n",
    "- There are 33 keywords in Python 3.6+"
   ]
  },
  {
   "cell_type": "code",
   "execution_count": 27,
   "metadata": {
    "slideshow": {
     "slide_type": "fragment"
    }
   },
   "outputs": [
    {
     "name": "stdout",
     "output_type": "stream",
     "text": [
      "['False', 'None', 'True', 'and', 'as', 'assert', 'async', 'await', 'break', 'class', 'continue', 'def', 'del', 'elif', 'else', 'except', 'finally', 'for', 'from', 'global', 'if', 'import', 'in', 'is', 'lambda', 'nonlocal', 'not', 'or', 'pass', 'raise', 'return', 'try', 'while', 'with', 'yield']\n"
     ]
    }
   ],
   "source": [
    "import keyword\n",
    "print(keyword.kwlist)"
   ]
  },
  {
   "cell_type": "markdown",
   "metadata": {
    "slideshow": {
     "slide_type": "slide"
    }
   },
   "source": [
    "## Numeric Type"
   ]
  },
  {
   "cell_type": "code",
   "execution_count": 38,
   "metadata": {
    "slideshow": {
     "slide_type": "fragment"
    }
   },
   "outputs": [
    {
     "name": "stdout",
     "output_type": "stream",
     "text": [
      "<class 'int'>\n",
      "True\n",
      "----------------------\n",
      "<class 'float'>\n",
      "False\n"
     ]
    }
   ],
   "source": [
    "this_is_integer = 10\n",
    "print(type(this_is_integer))\n",
    "print(isinstance(this_is_integer, int))\n",
    "\n",
    "print('----------------------')\n",
    "\n",
    "this_is_float = 10.0\n",
    "print(type(this_is_float))\n",
    "print(isinstance(this_is_float, int))"
   ]
  },
  {
   "cell_type": "markdown",
   "metadata": {
    "slideshow": {
     "slide_type": "slide"
    }
   },
   "source": [
    "### Arithmetic Operations"
   ]
  },
  {
   "cell_type": "code",
   "execution_count": 81,
   "metadata": {
    "slideshow": {
     "slide_type": "fragment"
    }
   },
   "outputs": [
    {
     "name": "stdout",
     "output_type": "stream",
     "text": [
      "Sum: 15\n",
      "Sum of int and float: 20.2\n",
      "Diff:  5\n",
      "Multiplicatiuon Result:  50\n"
     ]
    }
   ],
   "source": [
    "var_int1 = 10\n",
    "var_int2 = 5\n",
    "var_float1 = 10.2\n",
    "\n",
    "# Addition\n",
    "sum = var_int1 + var_int2\n",
    "print(\"Sum:\",sum)\n",
    "\n",
    "# Addition of int + float = float\n",
    "sum_int_float = var_int1 + var_float1\n",
    "print(\"Sum of int and float:\",sum_int_float)\n",
    "\n",
    "# Subtraction\n",
    "diff = var_int1 - var_int2\n",
    "print(\"Diff: \",diff)\n",
    "\n",
    "# Multiplication\n",
    "result = var_int1 * var_int2\n",
    "print(\"Multiplicatiuon Result: \", result)\n"
   ]
  },
  {
   "cell_type": "code",
   "execution_count": 57,
   "metadata": {
    "slideshow": {
     "slide_type": "subslide"
    }
   },
   "outputs": [
    {
     "name": "stdout",
     "output_type": "stream",
     "text": [
      "Division Result:  4.666666666666667\n",
      "Division Result:  4\n",
      "Division Result:  3\n",
      "Division Result:  4\n"
     ]
    }
   ],
   "source": [
    "# Division - always returns a float\n",
    "result = var_int1 / var_int2\n",
    "print(\"Division Result: \", result)\n",
    "\n",
    "# Division get the integer result - Typecasting\n",
    "result = int(var_int1 / var_int2)\n",
    "print(\"Division Result: \", result)\n",
    "\n",
    "# Typecasting-2\n",
    "result = int(var_float1 / var_int2)\n",
    "print(\"Division Result: \", result)\n",
    "\n",
    "# Integer Division\n",
    "result = var_int1 // var_int2\n",
    "print(\"Division Result: \", result)"
   ]
  },
  {
   "cell_type": "code",
   "execution_count": 59,
   "metadata": {
    "slideshow": {
     "slide_type": "subslide"
    }
   },
   "outputs": [
    {
     "name": "stdout",
     "output_type": "stream",
     "text": [
      "Exponent Result:  2744\n",
      "Exponent Result using pow 2744\n"
     ]
    }
   ],
   "source": [
    "# Exponents\n",
    "result = var_int1 ** var_int2\n",
    "print(\"Exponent Result: \", result)\n",
    "\n",
    "print(\"Exponent Result using pow\",pow(var_int1,var_int2))"
   ]
  },
  {
   "cell_type": "code",
   "execution_count": 55,
   "metadata": {
    "slideshow": {
     "slide_type": "subslide"
    }
   },
   "outputs": [
    {
     "name": "stdout",
     "output_type": "stream",
     "text": [
      "4\n",
      "2\n"
     ]
    }
   ],
   "source": [
    "# Module Operator - returns the remainder of division\n",
    "var_int1 = 14\n",
    "var_int2 = 3\n",
    "\n",
    "print(var_int1//var_int2)\n",
    "print(var_int1%var_int2)"
   ]
  },
  {
   "cell_type": "markdown",
   "metadata": {
    "slideshow": {
     "slide_type": "subslide"
    }
   },
   "source": [
    "`What's the result of this?`\n",
    "> 4/2 + 2**3"
   ]
  },
  {
   "cell_type": "code",
   "execution_count": 60,
   "metadata": {
    "slideshow": {
     "slide_type": "subslide"
    }
   },
   "outputs": [
    {
     "name": "stdout",
     "output_type": "stream",
     "text": [
      "3\n",
      "5\n"
     ]
    }
   ],
   "source": [
    "# Some other functions\n",
    "print(round(2.7))\n",
    "print((abs(-5)))"
   ]
  },
  {
   "cell_type": "markdown",
   "metadata": {
    "slideshow": {
     "slide_type": "slide"
    }
   },
   "source": [
    "## Strings - Part I"
   ]
  },
  {
   "cell_type": "code",
   "execution_count": 82,
   "metadata": {
    "slideshow": {
     "slide_type": "fragment"
    }
   },
   "outputs": [
    {
     "name": "stdout",
     "output_type": "stream",
     "text": [
      "This is a string with single quotes.\n",
      "This is a string with double quotes.\n",
      "This is a string with triple quotes.\n"
     ]
    }
   ],
   "source": [
    "var_string_single = 'This is a string with single quotes.'\n",
    "print(var_string_single)\n",
    "\n",
    "var_string_double = \"This is a string with double quotes.\"\n",
    "print(var_string_double)\n",
    "\n",
    "var_string_triple = \"\"\"This is a string with triple quotes.\"\"\"\n",
    "print(var_string_triple)"
   ]
  },
  {
   "cell_type": "code",
   "execution_count": 67,
   "metadata": {
    "slideshow": {
     "slide_type": "subslide"
    }
   },
   "outputs": [
    {
     "name": "stdout",
     "output_type": "stream",
     "text": [
      "This is a string with single quotes. --- This is a string with double quotes.\n"
     ]
    }
   ],
   "source": [
    "# String concatenation\n",
    "concatenated_string = var_string_single + \" --- \" + var_string_double\n",
    "print(concatenated_string)"
   ]
  },
  {
   "cell_type": "markdown",
   "metadata": {
    "slideshow": {
     "slide_type": "subslide"
    }
   },
   "source": [
    "### Escape characters"
   ]
  },
  {
   "cell_type": "markdown",
   "metadata": {
    "slideshow": {
     "slide_type": "fragment"
    }
   },
   "source": [
    "- To insert characters that are illegal in a string or format string printing, use an escape character.\n",
    "- An escape character is a backslash \\ followed by the character you want to insert."
   ]
  },
  {
   "cell_type": "code",
   "execution_count": 68,
   "metadata": {
    "slideshow": {
     "slide_type": "subslide"
    }
   },
   "outputs": [
    {
     "ename": "SyntaxError",
     "evalue": "invalid syntax (<ipython-input-68-485014d8dfdf>, line 1)",
     "output_type": "error",
     "traceback": [
      "\u001b[0;36m  File \u001b[0;32m\"<ipython-input-68-485014d8dfdf>\"\u001b[0;36m, line \u001b[0;32m1\u001b[0m\n\u001b[0;31m    txt = \"We are the so-called \"Vikings\" from the north.\"\u001b[0m\n\u001b[0m                                       ^\u001b[0m\n\u001b[0;31mSyntaxError\u001b[0m\u001b[0;31m:\u001b[0m invalid syntax\n"
     ]
    }
   ],
   "source": [
    "txt = \"We are the so-called \"Vikings\" from the north.\"\n",
    "print(txt)"
   ]
  },
  {
   "cell_type": "code",
   "execution_count": 69,
   "metadata": {
    "slideshow": {
     "slide_type": "fragment"
    }
   },
   "outputs": [
    {
     "name": "stdout",
     "output_type": "stream",
     "text": [
      "We are the so-called \"Vikings\" from the north.\n"
     ]
    }
   ],
   "source": [
    "txt = \"We are the so-called \\\"Vikings\\\" from the north.\"\n",
    "print(txt)"
   ]
  },
  {
   "cell_type": "code",
   "execution_count": 72,
   "metadata": {
    "slideshow": {
     "slide_type": "fragment"
    }
   },
   "outputs": [
    {
     "name": "stdout",
     "output_type": "stream",
     "text": [
      "HI.\n",
      "How are you? \t I am fine.\n"
     ]
    }
   ],
   "source": [
    "txt = \"HI.\\nHow are you? \\t I am fine.\"\n",
    "print(txt)"
   ]
  },
  {
   "cell_type": "markdown",
   "metadata": {
    "slideshow": {
     "slide_type": "fragment"
    }
   },
   "source": [
    "All Escape Characters: [Esc characters](https://linuxconfig.org/list-of-python-escape-sequence-characters-with-examples)"
   ]
  },
  {
   "cell_type": "markdown",
   "metadata": {
    "slideshow": {
     "slide_type": "slide"
    }
   },
   "source": [
    "### String Formatting"
   ]
  },
  {
   "cell_type": "code",
   "execution_count": 78,
   "metadata": {
    "slideshow": {
     "slide_type": "fragment"
    }
   },
   "outputs": [
    {
     "ename": "TypeError",
     "evalue": "can only concatenate str (not \"int\") to str",
     "output_type": "error",
     "traceback": [
      "\u001b[0;31m---------------------------------------------------------------------------\u001b[0m",
      "\u001b[0;31mTypeError\u001b[0m                                 Traceback (most recent call last)",
      "\u001b[0;32m<ipython-input-78-b619e09ec421>\u001b[0m in \u001b[0;36m<module>\u001b[0;34m\u001b[0m\n\u001b[1;32m      1\u001b[0m \u001b[0mvar_int1\u001b[0m \u001b[0;34m=\u001b[0m \u001b[0;36m10\u001b[0m\u001b[0;34m\u001b[0m\u001b[0;34m\u001b[0m\u001b[0m\n\u001b[0;32m----> 2\u001b[0;31m \u001b[0mvar_str1\u001b[0m \u001b[0;34m=\u001b[0m \u001b[0;34m\"I have total \"\u001b[0m\u001b[0;34m+\u001b[0m\u001b[0mvar_int1\u001b[0m\u001b[0;34m+\u001b[0m\u001b[0;34m\" for you.\"\u001b[0m\u001b[0;34m\u001b[0m\u001b[0;34m\u001b[0m\u001b[0m\n\u001b[0m\u001b[1;32m      3\u001b[0m \u001b[0mprint\u001b[0m\u001b[0;34m(\u001b[0m\u001b[0mvar_str1\u001b[0m\u001b[0;34m)\u001b[0m\u001b[0;34m\u001b[0m\u001b[0;34m\u001b[0m\u001b[0m\n",
      "\u001b[0;31mTypeError\u001b[0m: can only concatenate str (not \"int\") to str"
     ]
    }
   ],
   "source": [
    "var_int1 = 10\n",
    "var_str1 = \"I have total \"+var_int1+\" for you.\"\n",
    "print(var_str1)"
   ]
  },
  {
   "cell_type": "code",
   "execution_count": 79,
   "metadata": {
    "slideshow": {
     "slide_type": "subslide"
    }
   },
   "outputs": [
    {
     "name": "stdout",
     "output_type": "stream",
     "text": [
      "I have total 10 for you.\n"
     ]
    }
   ],
   "source": [
    "var_int1 = 10\n",
    "var_str1 = \"I have total \"+str(var_int1)+\" for you.\"\n",
    "print(var_str1)"
   ]
  },
  {
   "cell_type": "code",
   "execution_count": 80,
   "metadata": {
    "slideshow": {
     "slide_type": "subslide"
    }
   },
   "outputs": [
    {
     "name": "stdout",
     "output_type": "stream",
     "text": [
      "I have total 10 for you.\n"
     ]
    }
   ],
   "source": [
    "# f-string\n",
    "var_int1 = 10\n",
    "\n",
    "var_str1 = f\"I have total {var_int1} for you.\"\n",
    "\n",
    "print(var_str1)"
   ]
  },
  {
   "cell_type": "code",
   "execution_count": 83,
   "metadata": {
    "slideshow": {
     "slide_type": "notes"
    }
   },
   "outputs": [
    {
     "name": "stdout",
     "output_type": "stream",
     "text": [
      "Enter length of Reactangle: 25\n",
      "Enter width of Reactangle: 25\n",
      "Area of Rectangle is: 625\n"
     ]
    }
   ],
   "source": [
    "# Sample 1 : Take width and length of a rectangle and find the area\n",
    "length = int(input(\"Enter length of Reactangle: \"))\n",
    "width = int(input(\"Enter width of Reactangle: \"))\n",
    "\n",
    "area = length * width\n",
    "print(f\"Area of Rectangle is: {area}\")"
   ]
  },
  {
   "cell_type": "code",
   "execution_count": 84,
   "metadata": {
    "slideshow": {
     "slide_type": "notes"
    }
   },
   "outputs": [
    {
     "name": "stdout",
     "output_type": "stream",
     "text": [
      "Enter first integer value, var_int1: 23\n",
      "Enter second integer value, var_int2: 67\n",
      "var_int1: 67, var_int2: 23\n"
     ]
    }
   ],
   "source": [
    "# Sample 2: Swap two integers\n",
    "# Take two variables var_int1 and var_int2 as integer input\n",
    "# And print them with their values swapped\n",
    "\n",
    "var_int1 = int(input(\"Enter first integer value, var_int1: \"))\n",
    "var_int2 = int(input(\"Enter second integer value, var_int2: \"))\n",
    "\n",
    "temp = var_int2\n",
    "var_int2 = var_int1\n",
    "var_int1 = temp\n",
    "\n",
    "print(f\"var_int1: {var_int1}, var_int2: {var_int2}\")\n"
   ]
  },
  {
   "cell_type": "code",
   "execution_count": 89,
   "metadata": {
    "slideshow": {
     "slide_type": "notes"
    }
   },
   "outputs": [
    {
     "name": "stdout",
     "output_type": "stream",
     "text": [
      "Enter your weight in lbs: 192\n",
      "Enter your height in in: 67\n",
      "Your BMI is: 30.068166629538872\n"
     ]
    }
   ],
   "source": [
    "# Sample 3: BMI calculator\n",
    "# Take height and weight as input and calculate the BMI\n",
    "# BMI formula : weight (lb) * 703 / [height (in)]2\n",
    "\n",
    "weight = float(input(\"Enter your weight in lbs: \"))\n",
    "height = float(input(\"Enter your height in inches: \"))\n",
    "\n",
    "bmi = weight*703/(height*height)\n",
    "print(f\"Your BMI is: {bmi}\")"
   ]
  },
  {
   "cell_type": "code",
   "execution_count": 95,
   "metadata": {
    "slideshow": {
     "slide_type": "notes"
    }
   },
   "outputs": [
    {
     "name": "stdout",
     "output_type": "stream",
     "text": [
      "Enter your number between 0 and 1000: 26\n",
      "Sum is: 8\n"
     ]
    }
   ],
   "source": [
    "# Sample 4: input an integer between 0 and 999 and adds all the digits in the integer\n",
    "var_num1 = int(input(\"Enter your number between 0 and 1000: \"))\n",
    "\n",
    "first_digit = var_num1 // 100\n",
    "var_num1 = var_num1 % 100\n",
    "second_digit = var_num1 // 10\n",
    "var_num1 = var_num1 % 10\n",
    "third_digit = var_num1 \n",
    "print(f\"Sum is: {first_digit + second_digit + third_digit}\")"
   ]
  }
 ],
 "metadata": {
  "celltoolbar": "Slideshow",
  "kernelspec": {
   "display_name": "Python 3",
   "language": "python",
   "name": "python3"
  },
  "language_info": {
   "codemirror_mode": {
    "name": "ipython",
    "version": 3
   },
   "file_extension": ".py",
   "mimetype": "text/x-python",
   "name": "python",
   "nbconvert_exporter": "python",
   "pygments_lexer": "ipython3",
   "version": "3.7.6"
  }
 },
 "nbformat": 4,
 "nbformat_minor": 4
}
