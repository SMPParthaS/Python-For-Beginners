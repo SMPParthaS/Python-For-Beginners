{
 "cells": [
  {
   "cell_type": "markdown",
   "metadata": {
    "slideshow": {
     "slide_type": "slide"
    }
   },
   "source": [
    "# The Pythonian "
   ]
  },
  {
   "cell_type": "markdown",
   "metadata": {
    "slideshow": {
     "slide_type": "fragment"
    }
   },
   "source": [
    "## Season 1 Episode 3 : Controlling The Force\n",
    "\n",
    "\n",
    "### Partha Satpathy\n",
    "#### Andrew Olin, Austin Brogan"
   ]
  },
  {
   "cell_type": "markdown",
   "metadata": {
    "slideshow": {
     "slide_type": "notes"
    }
   },
   "source": [
    "Note:\n",
    "To run this: jupyter nbconvert S1E3.ipynb --to slides --post serve"
   ]
  },
  {
   "cell_type": "markdown",
   "metadata": {
    "slideshow": {
     "slide_type": "slide"
    }
   },
   "source": [
    "## Control Flow"
   ]
  },
  {
   "cell_type": "markdown",
   "metadata": {
    "slideshow": {
     "slide_type": "fragment"
    }
   },
   "source": [
    "A control flow is like tuning your code. It controls which part of the code will be executed and how many times. \n",
    "Two categories:\n",
    "- Conditional Statements (if, else, else-if)\n",
    "- Loop (for, while, break, continue, pass)"
   ]
  },
  {
   "cell_type": "code",
   "execution_count": 54,
   "metadata": {},
   "outputs": [
    {
     "data": {
      "text/plain": [
       "5"
      ]
     },
     "execution_count": 54,
     "metadata": {},
     "output_type": "execute_result"
    }
   ],
   "source": [
    "var_int1 = 14\n",
    "# var_int1//4\n",
    "var_int1 // 4 +  var_int1 % 4"
   ]
  },
  {
   "cell_type": "markdown",
   "metadata": {
    "slideshow": {
     "slide_type": "slide"
    }
   },
   "source": [
    "## Conditional Statement"
   ]
  },
  {
   "cell_type": "code",
   "execution_count": 2,
   "metadata": {
    "slideshow": {
     "slide_type": "slide"
    }
   },
   "outputs": [
    {
     "name": "stdout",
     "output_type": "stream",
     "text": [
      "True\n",
      "False\n"
     ]
    }
   ],
   "source": [
    "# Recap Boolean\n",
    "var_bool1 = True\n",
    "var_bool2 = False\n",
    "print(var_bool1)\n",
    "print(var_bool2)"
   ]
  },
  {
   "cell_type": "code",
   "execution_count": 3,
   "metadata": {
    "slideshow": {
     "slide_type": "fragment"
    }
   },
   "outputs": [
    {
     "name": "stdout",
     "output_type": "stream",
     "text": [
      "True\n"
     ]
    }
   ],
   "source": [
    "# Evaluating value of a variable\n",
    "var_int1 = 10\n",
    "\n",
    "print(var_int1 == 10)"
   ]
  },
  {
   "cell_type": "code",
   "execution_count": 4,
   "metadata": {
    "slideshow": {
     "slide_type": "fragment"
    }
   },
   "outputs": [
    {
     "name": "stdout",
     "output_type": "stream",
     "text": [
      "False\n"
     ]
    }
   ],
   "source": [
    "var_int1 = 5\n",
    "print(var_int1 == 10)"
   ]
  },
  {
   "cell_type": "markdown",
   "metadata": {
    "slideshow": {
     "slide_type": "subslide"
    }
   },
   "source": [
    "Comparision operators: >, <, >=, <=, !=   \n",
    "\n",
    "Logical Operators: and, or, not"
   ]
  },
  {
   "cell_type": "code",
   "execution_count": 7,
   "metadata": {
    "slideshow": {
     "slide_type": "fragment"
    }
   },
   "outputs": [
    {
     "name": "stdout",
     "output_type": "stream",
     "text": [
      "Is 8 greater than 5 and less than 10?: True\n"
     ]
    }
   ],
   "source": [
    "var_int1 = 8\n",
    "var_bool = var_int1 > 5 and var_int1 < 10\n",
    "print(f\"Is {var_int1} greater than 5 and less than 10?: {var_bool}\")"
   ]
  },
  {
   "cell_type": "markdown",
   "metadata": {
    "slideshow": {
     "slide_type": "subslide"
    }
   },
   "source": [
    "**Evaluate this?**\n",
    "\n",
    "`var_int1 = 13 // 4  \n",
    "var_int1 >= 3`"
   ]
  },
  {
   "cell_type": "code",
   "execution_count": 50,
   "metadata": {
    "slideshow": {
     "slide_type": "fragment"
    }
   },
   "outputs": [
    {
     "name": "stdout",
     "output_type": "stream",
     "text": [
      "True\n"
     ]
    }
   ],
   "source": [
    "var_int1 = 13 // 4\n",
    "print(var_int1 >= 3)"
   ]
  },
  {
   "cell_type": "markdown",
   "metadata": {
    "slideshow": {
     "slide_type": "fragment"
    }
   },
   "source": [
    "**Evaluate this?**\n",
    "\n",
    "`var_int1 = (25*6)/(12*2)`  \n",
    "`not(var_int1 > 6 or var_int1 < 10)`"
   ]
  },
  {
   "cell_type": "code",
   "execution_count": 16,
   "metadata": {
    "slideshow": {
     "slide_type": "fragment"
    }
   },
   "outputs": [
    {
     "name": "stdout",
     "output_type": "stream",
     "text": [
      "False\n"
     ]
    }
   ],
   "source": [
    "var_int1 = (25*6)/(12*2)\n",
    "print(not(var_int1 > 5 or var_int1 < 6))"
   ]
  },
  {
   "cell_type": "markdown",
   "metadata": {
    "slideshow": {
     "slide_type": "slide"
    }
   },
   "source": [
    "### If-else statements"
   ]
  },
  {
   "cell_type": "code",
   "execution_count": 18,
   "metadata": {
    "slideshow": {
     "slide_type": "subslide"
    }
   },
   "outputs": [
    {
     "name": "stdout",
     "output_type": "stream",
     "text": [
      "I have $10\n"
     ]
    }
   ],
   "source": [
    "# If statement: Uses Boolean Variable to control running of a piece of code\n",
    "\n",
    "my_money = 10\n",
    "if (my_money == 10):\n",
    "    print(\"I have $10\")"
   ]
  },
  {
   "cell_type": "code",
   "execution_count": 21,
   "metadata": {
    "slideshow": {
     "slide_type": "fragment"
    }
   },
   "outputs": [
    {
     "name": "stdout",
     "output_type": "stream",
     "text": [
      "I love Ramen!\n"
     ]
    }
   ],
   "source": [
    "# If condition fails: else gets executed\n",
    "my_money = 8\n",
    "\n",
    "if (my_money > 10):\n",
    "    print(\"Let's go party!\")\n",
    "else:\n",
    "    print(\"I love Ramen!\")"
   ]
  },
  {
   "cell_type": "code",
   "execution_count": 23,
   "metadata": {
    "slideshow": {
     "slide_type": "subslide"
    }
   },
   "outputs": [
    {
     "name": "stdout",
     "output_type": "stream",
     "text": [
      "Let's go party at Olive Garden!\n"
     ]
    }
   ],
   "source": [
    "# If-elseif-else\n",
    "my_money = 16\n",
    "\n",
    "if (my_money > 10 and my_money <= 15):\n",
    "    print(\"Let's go party at McDoalnds!\")\n",
    "elif (my_money > 15):\n",
    "    print(\"Let's go party at Olive Garden!\")\n",
    "else:\n",
    "    print(\"I love Ramen!\")"
   ]
  },
  {
   "cell_type": "code",
   "execution_count": 30,
   "metadata": {
    "slideshow": {
     "slide_type": "fragment"
    }
   },
   "outputs": [
    {
     "name": "stdout",
     "output_type": "stream",
     "text": [
      "Let's go party at Olive Garden!\n"
     ]
    }
   ],
   "source": [
    "my_money = 16\n",
    "\n",
    "if my_money > 10:\n",
    "    if my_money <= 15: # Nested if\n",
    "        print(\"Let's go party at McDoalnds!\")\n",
    "    else:\n",
    "        print(\"Let's go party at Olive Garden!\")\n",
    "else:\n",
    "    print(\"I love Ramen!\")"
   ]
  },
  {
   "cell_type": "code",
   "execution_count": 32,
   "metadata": {
    "slideshow": {
     "slide_type": "subslide"
    }
   },
   "outputs": [
    {
     "name": "stdout",
     "output_type": "stream",
     "text": [
      "I love Ramen!\n",
      "I love Ramen!\n"
     ]
    }
   ],
   "source": [
    "# One-liner if\n",
    "my_money = 8\n",
    "\n",
    "if (my_money > 10):\n",
    "    print(\"Let's go party!\")\n",
    "else:\n",
    "    print(\"I love Ramen!\")\n",
    "#------------------------------#\n",
    "print(\"Let's go Party\" if my_money > 10 else \"I love Ramen!\")"
   ]
  },
  {
   "cell_type": "markdown",
   "metadata": {
    "slideshow": {
     "slide_type": "fragment"
    }
   },
   "source": [
    "#### Pythonian way\n",
    "- Avoid nested if possible\n",
    "- Use one liner- if only when you are proficient"
   ]
  },
  {
   "cell_type": "code",
   "execution_count": 35,
   "metadata": {
    "slideshow": {
     "slide_type": "skip"
    }
   },
   "outputs": [
    {
     "name": "stdout",
     "output_type": "stream",
     "text": [
      "Enter your number:-3\n",
      "-3 is negative\n"
     ]
    }
   ],
   "source": [
    "# Sample 1: Input a number from the user and print whether it is positive or negative\n",
    "var_num = int(input(\"Enter your number:\"))\n",
    "if var_num > 0:\n",
    "    print(f\"{var_num} is positive\")\n",
    "else:\n",
    "    print(f\"{var_num} is negative\")"
   ]
  },
  {
   "cell_type": "code",
   "execution_count": 38,
   "metadata": {
    "slideshow": {
     "slide_type": "skip"
    }
   },
   "outputs": [
    {
     "name": "stdout",
     "output_type": "stream",
     "text": [
      "Enter your height in inches:-1\n",
      "Enter your weight in pounds:100\n",
      "Your BMI is Obese.\n"
     ]
    }
   ],
   "source": [
    "# Sample 2: Input height and weight and classify BMI: Good, Overweight, and Obese.\n",
    "\n",
    "height = float(input(\"Enter your height in inches:\"))\n",
    "weight = float(input(\"Enter your weight in pounds:\"))\n",
    "\n",
    "BMI = (weight*703)/(height**2)\n",
    "\n",
    "if BMI <= 25:\n",
    "    print(\"Your BMI is Good!\")\n",
    "elif (BMI > 25 and BMI < 30):\n",
    "    print(\"Your BMI is Overweight.\")\n",
    "else:\n",
    "    print(\"Your BMI is Obese.\")"
   ]
  },
  {
   "cell_type": "code",
   "execution_count": 45,
   "metadata": {
    "slideshow": {
     "slide_type": "skip"
    }
   },
   "outputs": [],
   "source": [
    "# Practice 1: Input three numbers from the user and print the greatest number"
   ]
  },
  {
   "cell_type": "code",
   "execution_count": 44,
   "metadata": {
    "slideshow": {
     "slide_type": "skip"
    }
   },
   "outputs": [
    {
     "name": "stdout",
     "output_type": "stream",
     "text": [
      "Enter a Year: 2000\n",
      "Leap Year\n"
     ]
    }
   ],
   "source": [
    "# Practice 2: Input a year and print if the year is a leap year or not\n",
    "year = int(input(\"Enter a Year: \"))\n",
    "is_leap_year = False\n",
    "\n",
    "if year % 4 == 0:\n",
    "    if year % 100 == 0:\n",
    "        if year% 400 == 0:\n",
    "            is_leap_year = True\n",
    "    else:\n",
    "        is_leap_year = True\n",
    "        \n",
    "print(\"Leap Year\" if is_leap_year else \"Not a Leap Year.\")\n",
    "    "
   ]
  },
  {
   "cell_type": "code",
   "execution_count": 49,
   "metadata": {
    "slideshow": {
     "slide_type": "skip"
    }
   },
   "outputs": [
    {
     "name": "stdout",
     "output_type": "stream",
     "text": [
      "Enter a Year: 2004\n",
      "Leap Year\n"
     ]
    }
   ],
   "source": [
    "year = int(input(\"Enter a Year: \"))\n",
    "print(\"Leap Year\" if year % 4 == 0 and (year % 100 != 0 or year % 400 == 0) else \"Not a Leap Year.\")"
   ]
  },
  {
   "cell_type": "code",
   "execution_count": null,
   "metadata": {},
   "outputs": [],
   "source": [
    "basic_salary = int(input(\"Enter your Basic Salary\"))\n",
    "\n",
    "hra = 0\n",
    "da = 0\n",
    "gross_salary = 0\n",
    "\n",
    "if basic_salary > 0:\n",
    "    if basic_salary <= 10000:\n",
    "        hra = .2\n",
    "        da = .8\n",
    "    elif basic_salary > 10000 and basic_salary <= 20000: \n",
    "        hra = .25\n",
    "        da = .9\n",
    "    else:\n",
    "        hra = .3\n",
    "        da = .95\n",
    "\n",
    "    gross_salary = basic_salary + basic_salary * hra + basic_salary * da\n",
    "    "
   ]
  }
 ],
 "metadata": {
  "celltoolbar": "Slideshow",
  "kernelspec": {
   "display_name": "Python 3",
   "language": "python",
   "name": "python3"
  },
  "language_info": {
   "codemirror_mode": {
    "name": "ipython",
    "version": 3
   },
   "file_extension": ".py",
   "mimetype": "text/x-python",
   "name": "python",
   "nbconvert_exporter": "python",
   "pygments_lexer": "ipython3",
   "version": "3.7.6"
  }
 },
 "nbformat": 4,
 "nbformat_minor": 4
}
