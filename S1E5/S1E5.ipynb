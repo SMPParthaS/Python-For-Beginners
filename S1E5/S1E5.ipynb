{
 "cells": [
  {
   "cell_type": "markdown",
   "metadata": {
    "slideshow": {
     "slide_type": "slide"
    }
   },
   "source": [
    "# The Pythonian "
   ]
  },
  {
   "cell_type": "markdown",
   "metadata": {
    "slideshow": {
     "slide_type": "fragment"
    }
   },
   "source": [
    "## Season 1 Episode 5 : The Loop\n",
    "\n",
    "\n",
    "### Partha Satpathy\n",
    "#### Andrew Olin, Austin Brogan"
   ]
  },
  {
   "cell_type": "markdown",
   "metadata": {
    "slideshow": {
     "slide_type": "skip"
    }
   },
   "source": [
    "Note:\n",
    "To run this: jupyter nbconvert S1E5.ipynb --to slides --post serve"
   ]
  },
  {
   "cell_type": "markdown",
   "metadata": {
    "slideshow": {
     "slide_type": "slide"
    }
   },
   "source": [
    "## Loop"
   ]
  },
  {
   "cell_type": "markdown",
   "metadata": {
    "slideshow": {
     "slide_type": "fragment"
    }
   },
   "source": [
    "- Loop in programming language means running the same code multiple times conditionally.\n",
    "- Python supports both for and while loops."
   ]
  },
  {
   "cell_type": "markdown",
   "metadata": {
    "slideshow": {
     "slide_type": "slide"
    }
   },
   "source": [
    "### For loop"
   ]
  },
  {
   "cell_type": "code",
   "execution_count": 4,
   "metadata": {
    "slideshow": {
     "slide_type": "fragment"
    }
   },
   "outputs": [
    {
     "name": "stdout",
     "output_type": "stream",
     "text": [
      "For loop structure\n"
     ]
    }
   ],
   "source": [
    "\"\"\"\n",
    "for var in iterable:   \n",
    "    statement\n",
    "\"\"\"\n",
    "print(\"For loop structure\")"
   ]
  },
  {
   "cell_type": "markdown",
   "metadata": {
    "slideshow": {
     "slide_type": "fragment"
    }
   },
   "source": [
    "- iterable: collection of objects. e.g.list, tuple, dictionary\n",
    "- statement: lines of code that will be executed for each element in the collection "
   ]
  },
  {
   "cell_type": "markdown",
   "metadata": {
    "slideshow": {
     "slide_type": "slide"
    }
   },
   "source": [
    "**Looping Examples**"
   ]
  },
  {
   "cell_type": "code",
   "execution_count": 5,
   "metadata": {
    "slideshow": {
     "slide_type": "subslide"
    }
   },
   "outputs": [
    {
     "name": "stdout",
     "output_type": "stream",
     "text": [
      "4\n",
      "7\n",
      "9\n",
      "24\n"
     ]
    }
   ],
   "source": [
    "list_example = [3, 6, 8, 23]\n",
    "for element in list_example:\n",
    "    print(element + 1)"
   ]
  },
  {
   "cell_type": "code",
   "execution_count": 19,
   "metadata": {
    "slideshow": {
     "slide_type": "fragment"
    }
   },
   "outputs": [
    {
     "name": "stdout",
     "output_type": "stream",
     "text": [
      "index: 0 has element: 3\n",
      "index: 1 has element: 6\n",
      "index: 2 has element: 8\n",
      "index: 3 has element: 23\n"
     ]
    }
   ],
   "source": [
    "# loop with list index\n",
    "\n",
    "list_example = [3, 6, 8, 23]\n",
    "for index, element in enumerate(list_example):\n",
    "    print(f\"index: {index} has element: {element}\")"
   ]
  },
  {
   "cell_type": "code",
   "execution_count": 9,
   "metadata": {
    "slideshow": {
     "slide_type": "subslide"
    }
   },
   "outputs": [
    {
     "name": "stdout",
     "output_type": "stream",
     "text": [
      "2\n",
      "5\n",
      "8\n",
      "11\n"
     ]
    }
   ],
   "source": [
    "# range function\n",
    "\n",
    "for element in range(2, 12, 3): # range(from, to, steps)\n",
    "    print(element)"
   ]
  },
  {
   "cell_type": "code",
   "execution_count": 11,
   "metadata": {
    "slideshow": {
     "slide_type": "fragment"
    }
   },
   "outputs": [
    {
     "name": "stdout",
     "output_type": "stream",
     "text": [
      "False\n"
     ]
    }
   ],
   "source": [
    "# range is not list\n",
    "print(range(2,12,3) == [2, 5, 8, 11])"
   ]
  },
  {
   "cell_type": "code",
   "execution_count": 16,
   "metadata": {
    "slideshow": {
     "slide_type": "subslide"
    }
   },
   "outputs": [
    {
     "name": "stdout",
     "output_type": "stream",
     "text": [
      "4\n",
      "7\n",
      "9\n",
      "24\n"
     ]
    }
   ],
   "source": [
    "# Loop through a tuple\n",
    "tuple_example = (3, 6, 8, 23)\n",
    "for element in tuple_example:\n",
    "    print(element + 1)"
   ]
  },
  {
   "cell_type": "code",
   "execution_count": 22,
   "metadata": {
    "slideshow": {
     "slide_type": "subslide"
    }
   },
   "outputs": [
    {
     "name": "stdout",
     "output_type": "stream",
     "text": [
      "doctor1's name is John Dorian\n",
      "doctor2's name is Dr. Fox\n",
      "doctor3's name is Chris Turk\n",
      "doctor4's name is Elliot Ried\n"
     ]
    }
   ],
   "source": [
    "# Loop through a dictionary\n",
    "\n",
    "hospital_doctors = {\n",
    "    \"doctor1\": \"John Dorian\",\n",
    "    \"doctor2\": \"Dr. Cox\",\n",
    "    \"doctor3\": \"Chris Turk\",\n",
    "    \"doctor4\": \"Elliot Ried\"\n",
    "}\n",
    "\n",
    "for doctor, name in hospital_doctors.items():\n",
    "    print(f\"{doctor}'s name is {name}\")"
   ]
  },
  {
   "cell_type": "code",
   "execution_count": 41,
   "metadata": {
    "slideshow": {
     "slide_type": "skip"
    }
   },
   "outputs": [
    {
     "name": "stdout",
     "output_type": "stream",
     "text": [
      "Enter an integer greater than 1:  6\n",
      "6 X 1 = 6\n",
      "6 X 2 = 12\n",
      "6 X 3 = 18\n",
      "6 X 4 = 24\n",
      "6 X 5 = 30\n",
      "6 X 6 = 36\n",
      "6 X 7 = 42\n",
      "6 X 8 = 48\n",
      "6 X 9 = 54\n",
      "6 X 10 = 60\n"
     ]
    }
   ],
   "source": [
    "# Example1: Input an integer greater than 1 and display it's multiplication table\n",
    "\n",
    "input_integer = int(input(\"Enter an integer greater than 1:  \"))\n",
    "\n",
    "for num in range(1, 11):\n",
    "    print(f\"{input_integer} X {num} = {input_integer * num}\")"
   ]
  },
  {
   "cell_type": "code",
   "execution_count": 39,
   "metadata": {
    "slideshow": {
     "slide_type": "skip"
    }
   },
   "outputs": [
    {
     "name": "stdout",
     "output_type": "stream",
     "text": [
      "Enter an integer greater than 1:  23\n",
      "23 is a prime number\n"
     ]
    }
   ],
   "source": [
    "# Example2: input an integer greater than 1 and check if it is a Prime Number\n",
    "# Prime Number: A positive integer greater than 1 which has no other factors except 1 and the number itself \n",
    "# is called a prime number. \n",
    "# 2, 3, 5, 7 etc. are prime numbers as they do not have any other factors. \n",
    "# But 6 is not prime (it is composite) since, 2 x 3 = 6\n",
    "\n",
    "input_integer = int(input(\"Enter an integer greater than 1:  \"))\n",
    "\n",
    "for num in range(2,input_integer): # Start from 2 and go till the number\n",
    "    if (input_integer % num == 0): # Check if it's divisible by any such number\n",
    "        print(f\"{input_integer} is not a prime number as it is divisible by {num}.\") # print it's not a prime number\n",
    "        break\n",
    "else: # else for for loop\n",
    "    print(f\"{input_integer} is a prime number\")"
   ]
  },
  {
   "cell_type": "code",
   "execution_count": 47,
   "metadata": {
    "slideshow": {
     "slide_type": "skip"
    }
   },
   "outputs": [
    {
     "name": "stdout",
     "output_type": "stream",
     "text": [
      "1\n",
      "\n",
      "12\n",
      "\n",
      "123\n",
      "\n",
      "1234\n",
      "\n",
      "12345\n",
      "\n",
      "123456\n",
      "\n",
      "1234567\n",
      "\n",
      "12345678\n",
      "\n",
      "123456789\n",
      "\n",
      "12345678910\n",
      "\n"
     ]
    }
   ],
   "source": [
    "\"\"\"\n",
    "1                                                                                \n",
    "12                                                                               \n",
    "123                                                                              \n",
    "1234                                                                             \n",
    "12345                                                                            \n",
    "123456                                                                           \n",
    "1234567                                                                          \n",
    "12345678                                                                         \n",
    "123456789                                                                        \n",
    "12345678910\n",
    "\"\"\"\n",
    "# Example3: Write a program to show the above pyramid\n",
    "for i in range(1,11):\n",
    "    for j in range(1,i+1):\n",
    "        print(j, end=\"\")\n",
    "    print(\"\\n\")"
   ]
  },
  {
   "cell_type": "code",
   "execution_count": 49,
   "metadata": {
    "slideshow": {
     "slide_type": "skip"
    }
   },
   "outputs": [],
   "source": [
    "# Practice 1: Create a list of integers between 9 and 46 and print all the prime numbers in the list"
   ]
  },
  {
   "cell_type": "code",
   "execution_count": null,
   "metadata": {
    "slideshow": {
     "slide_type": "skip"
    }
   },
   "outputs": [],
   "source": [
    "# Practice 2: Print name of all employees who are eligible to drink alcohol in the office party \n",
    "employees = {\n",
    "    \"employee1\": {\n",
    "        \"name\": \"John\",\n",
    "        \"age\": 25\n",
    "    },\n",
    "    \"employee2\": {\n",
    "        \"name\": \"Chris\",\n",
    "        \"age\": 17\n",
    "    },\n",
    "    \"employee3\": {\n",
    "        \"name\": \"Jack\",\n",
    "        \"age\": 20\n",
    "    },\n",
    "    \"employee1\": {\n",
    "        \"name\": \"Jill\",\n",
    "        \"age\": 55\n",
    "    },\n",
    "    \"employee1\": {\n",
    "        \"name\": \"Jorge\",\n",
    "        \"age\": 21\n",
    "    },\n",
    "}\n"
   ]
  }
 ],
 "metadata": {
  "celltoolbar": "Slideshow",
  "kernelspec": {
   "display_name": "Python 3",
   "language": "python",
   "name": "python3"
  },
  "language_info": {
   "codemirror_mode": {
    "name": "ipython",
    "version": 3
   },
   "file_extension": ".py",
   "mimetype": "text/x-python",
   "name": "python",
   "nbconvert_exporter": "python",
   "pygments_lexer": "ipython3",
   "version": "3.7.6"
  }
 },
 "nbformat": 4,
 "nbformat_minor": 4
}
